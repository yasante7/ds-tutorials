{
 "cells": [
  {
   "cell_type": "markdown",
   "id": "9e5b5c55",
   "metadata": {},
   "source": [
    "# Session 1: Python Fundamentals & Environment Setup\n",
    "## Week 1 - Data Science & Machine Learning Training Programme\n",
    "\n",
    "**Learning Objectives:**\n",
    "- Master Python fundamentals for data science\n",
    "- Set up professional development environment\n",
    "- Introduction to data science libraries ecosystem\n",
    "- Configure Git and GitHub for portfolio development\n",
    "\n",
    "---"
   ]
  },
  {
   "cell_type": "markdown",
   "id": "fc4ec676",
   "metadata": {},
   "source": [
    "## Part 1: Python Fundamentals Review (45 minutes)\n",
    "\n",
    "Let's start with a comprehensive review of Python fundamentals essential for data science."
   ]
  },
  {
   "cell_type": "markdown",
   "id": "fe097c81",
   "metadata": {},
   "source": [
    "### 1.1 Data Types and Variables"
   ]
  },
  {
   "cell_type": "code",
   "execution_count": 1,
   "id": "7d72e327",
   "metadata": {},
   "outputs": [
    {
     "name": "stdout",
     "output_type": "stream",
     "text": [
      "Age: 25, Type: <class 'int'>\n",
      "Height: 5.8, Type: <class 'float'>\n",
      "Name: Data Scientist, Type: <class 'str'>\n",
      "Is Student: True, Type: <class 'bool'>\n"
     ]
    }
   ],
   "source": [
    "# Basic data types in Python\n",
    "# Integers\n",
    "age = 25\n",
    "print(f\"Age: {age}, Type: {type(age)}\")\n",
    "\n",
    "# Floats\n",
    "height = 5.8\n",
    "print(f\"Height: {height}, Type: {type(height)}\")\n",
    "\n",
    "# Strings\n",
    "name = \"Data Scientist\"\n",
    "print(f\"Name: {name}, Type: {type(name)}\")\n",
    "\n",
    "# Booleans\n",
    "is_student = True\n",
    "print(f\"Is Student: {is_student}, Type: {type(is_student)}\")"
   ]
  },
  {
   "cell_type": "code",
   "execution_count": null,
   "id": "45fe2c70",
   "metadata": {},
   "outputs": [],
   "source": [
    "# Lists - Ordered, mutable collections\n",
    "numbers = [1, 2, 3, 4, 5]\n",
    "mixed_list = [1, \"hello\", 3.14, True]\n",
    "\n",
    "print(\"Numbers:\", numbers)\n",
    "print(\"Mixed list:\", mixed_list)\n",
    "print(\"First element:\", numbers[0])\n",
    "print(\"Last element:\", numbers[-1])\n",
    "\n",
    "# List operations\n",
    "numbers.append(6)\n",
    "print(\"After append:\", numbers)\n",
    "\n",
    "# List comprehension (very important for data science)\n",
    "squares = [x**2 for x in numbers]\n",
    "print(\"Squares:\", squares)"
   ]
  },
  {
   "cell_type": "code",
   "execution_count": null,
   "id": "b5b31e1d",
   "metadata": {},
   "outputs": [],
   "source": [
    "# Dictionaries - Key-value pairs (essential for data science)\n",
    "student_data = {\n",
    "    'name': 'John Doe',\n",
    "    'age': 23,\n",
    "    'grades': [85, 90, 78, 92],\n",
    "    'is_graduate': False\n",
    "}\n",
    "\n",
    "print(\"Student data:\", student_data)\n",
    "print(\"Student name:\", student_data['name'])\n",
    "print(\"Average grade:\", sum(student_data['grades']) / len(student_data['grades']))\n",
    "\n",
    "# Adding new key-value pair\n",
    "student_data['major'] = 'Data Science'\n",
    "print(\"Updated data:\", student_data)"
   ]
  },
  {
   "cell_type": "markdown",
   "id": "43e3e50d",
   "metadata": {},
   "source": [
    "### 1.2 Control Structures"
   ]
  },
  {
   "cell_type": "code",
   "execution_count": null,
   "id": "cfb1c811",
   "metadata": {},
   "outputs": [],
   "source": [
    "# Conditional statements\n",
    "score = 85\n",
    "\n",
    "if score >= 90:\n",
    "    grade = 'A'\n",
    "elif score >= 80:\n",
    "    grade = 'B'\n",
    "elif score >= 70:\n",
    "    grade = 'C'\n",
    "else:\n",
    "    grade = 'F'\n",
    "\n",
    "print(f\"Score: {score}, Grade: {grade}\")\n",
    "\n",
    "# Ternary operator (useful for data cleaning)\n",
    "status = \"Pass\" if score >= 60 else \"Fail\"\n",
    "print(f\"Status: {status}\")"
   ]
  },
  {
   "cell_type": "code",
   "execution_count": null,
   "id": "472faafe",
   "metadata": {},
   "outputs": [],
   "source": [
    "# Loops - Essential for data processing\n",
    "# For loop with range\n",
    "print(\"Numbers 1 to 5:\")\n",
    "for i in range(1, 6):\n",
    "    print(i, end=\" \")\n",
    "print()\n",
    "\n",
    "# For loop with list\n",
    "fruits = ['apple', 'banana', 'orange', 'grape']\n",
    "print(\"\\nFruits:\")\n",
    "for fruit in fruits:\n",
    "    print(f\"- {fruit}\")\n",
    "\n",
    "# Enumerate (very useful in data science)\n",
    "print(\"\\nFruits with index:\")\n",
    "for index, fruit in enumerate(fruits):\n",
    "    print(f\"{index}: {fruit}\")"
   ]
  },
  {
   "cell_type": "code",
   "execution_count": null,
   "id": "9a494e26",
   "metadata": {},
   "outputs": [],
   "source": [
    "# While loop example\n",
    "count = 0\n",
    "total = 0\n",
    "\n",
    "while count < 5:\n",
    "    count += 1\n",
    "    total += count\n",
    "    print(f\"Count: {count}, Total: {total}\")\n",
    "\n",
    "print(f\"Final total: {total}\")"
   ]
  },
  {
   "cell_type": "markdown",
   "id": "75907daa",
   "metadata": {},
   "source": [
    "### 1.3 Functions - Building Reusable Code"
   ]
  },
  {
   "cell_type": "code",
   "execution_count": null,
   "id": "452768ac",
   "metadata": {},
   "outputs": [],
   "source": [
    "# Basic function definition\n",
    "def calculate_average(numbers):\n",
    "    \"\"\"\n",
    "    Calculate the average of a list of numbers.\n",
    "    \n",
    "    Args:\n",
    "        numbers (list): List of numerical values\n",
    "    \n",
    "    Returns:\n",
    "        float: Average of the numbers\n",
    "    \"\"\"\n",
    "    if not numbers:\n",
    "        return 0\n",
    "    return sum(numbers) / len(numbers)\n",
    "\n",
    "# Test the function\n",
    "test_scores = [85, 90, 78, 92, 88]\n",
    "avg_score = calculate_average(test_scores)\n",
    "print(f\"Test scores: {test_scores}\")\n",
    "print(f\"Average score: {avg_score:.2f}\")"
   ]
  },
  {
   "cell_type": "code",
   "execution_count": null,
   "id": "7a5ea6f3",
   "metadata": {},
   "outputs": [],
   "source": [
    "# Function with default parameters\n",
    "def clean_text(text, remove_spaces=True, to_lowercase=True):\n",
    "    \"\"\"\n",
    "    Clean text data (useful for NLP tasks).\n",
    "    \n",
    "    Args:\n",
    "        text (str): Input text\n",
    "        remove_spaces (bool): Whether to remove extra spaces\n",
    "        to_lowercase (bool): Whether to convert to lowercase\n",
    "    \n",
    "    Returns:\n",
    "        str: Cleaned text\n",
    "    \"\"\"\n",
    "    if remove_spaces:\n",
    "        text = ' '.join(text.split())\n",
    "    \n",
    "    if to_lowercase:\n",
    "        text = text.lower()\n",
    "    \n",
    "    return text\n",
    "\n",
    "# Test the function\n",
    "messy_text = \"  Hello   WORLD   with   Extra    Spaces  \"\n",
    "cleaned = clean_text(messy_text)\n",
    "print(f\"Original: '{messy_text}'\")\n",
    "print(f\"Cleaned: '{cleaned}'\")"
   ]
  },
  {
   "cell_type": "code",
   "execution_count": null,
   "id": "e3d1ed8e",
   "metadata": {},
   "outputs": [],
   "source": [
    "# Lambda functions (useful for data transformations)\n",
    "# Regular function\n",
    "def square(x):\n",
    "    return x ** 2\n",
    "\n",
    "# Lambda equivalent\n",
    "square_lambda = lambda x: x ** 2\n",
    "\n",
    "numbers = [1, 2, 3, 4, 5]\n",
    "\n",
    "# Using map with lambda\n",
    "squared_numbers = list(map(lambda x: x ** 2, numbers))\n",
    "print(f\"Original: {numbers}\")\n",
    "print(f\"Squared: {squared_numbers}\")\n",
    "\n",
    "# Using filter with lambda\n",
    "even_numbers = list(filter(lambda x: x % 2 == 0, numbers))\n",
    "print(f\"Even numbers: {even_numbers}\")"
   ]
  },
  {
   "cell_type": "markdown",
   "id": "2436e656",
   "metadata": {},
   "source": [
    "## Part 2: Development Environment Setup (60 minutes)\n",
    "\n",
    "Let's set up a professional data science environment."
   ]
  },
  {
   "cell_type": "markdown",
   "id": "e612c11a",
   "metadata": {},
   "source": [
    "### 2.1 Jupyter Notebook Best Practices"
   ]
  },
  {
   "cell_type": "markdown",
   "id": "23df1406",
   "metadata": {},
   "source": [
    "#### Markdown Formatting in Jupyter\n",
    "\n",
    "**Headers:**\n",
    "# Header 1\n",
    "## Header 2\n",
    "### Header 3\n",
    "\n",
    "**Text formatting:**\n",
    "- *Italic text*\n",
    "- **Bold text**\n",
    "- ***Bold and italic***\n",
    "- `Code inline`\n",
    "\n",
    "**Lists:**\n",
    "1. Numbered item 1\n",
    "2. Numbered item 2\n",
    "\n",
    "- Bullet point 1\n",
    "- Bullet point 2\n",
    "\n",
    "**Mathematical equations:**\n",
    "- Inline math: $y = mx + b$\n",
    "- Block math: $$\\bar{x} = \\frac{1}{n}\\sum_{i=1}^{n} x_i$$\n",
    "\n",
    "**Code blocks:**\n",
    "```python\n",
    "print(\"This is a code block\")\n",
    "```"
   ]
  },
  {
   "cell_type": "code",
   "execution_count": null,
   "id": "fd644437",
   "metadata": {},
   "outputs": [],
   "source": [
    "# Jupyter Magic Commands\n",
    "# These are special commands that start with % (line magic) or %% (cell magic)\n",
    "\n",
    "# Time execution of a single line\n",
    "%timeit sum(range(100))\n",
    "\n",
    "# Get current working directory\n",
    "%pwd"
   ]
  },
  {
   "cell_type": "code",
   "execution_count": null,
   "id": "4cba6d95",
   "metadata": {},
   "outputs": [],
   "source": [
    "# Cell magic for timing entire cell\n",
    "%%timeit\n",
    "# This will time the entire cell\n",
    "total = 0\n",
    "for i in range(1000):\n",
    "    total += i"
   ]
  },
  {
   "cell_type": "code",
   "execution_count": null,
   "id": "4f5d08ef",
   "metadata": {},
   "outputs": [],
   "source": [
    "# Useful magic commands for data science\n",
    "# List all magic commands\n",
    "%lsmagic"
   ]
  },
  {
   "cell_type": "markdown",
   "id": "32bdc514",
   "metadata": {},
   "source": [
    "### 2.2 Introduction to Data Science Libraries"
   ]
  },
  {
   "cell_type": "code",
   "execution_count": null,
   "id": "a1266218",
   "metadata": {},
   "outputs": [],
   "source": [
    "# Check if libraries are installed\n",
    "import sys\n",
    "\n",
    "libraries = ['numpy', 'pandas', 'matplotlib', 'seaborn', 'scikit-learn']\n",
    "\n",
    "for lib in libraries:\n",
    "    try:\n",
    "        __import__(lib)\n",
    "        print(f\"✓ {lib} is installed\")\n",
    "    except ImportError:\n",
    "        print(f\"✗ {lib} is NOT installed\")\n",
    "        print(f\"  Install with: pip install {lib}\")"
   ]
  },
  {
   "cell_type": "code",
   "execution_count": null,
   "id": "3286c8a9",
   "metadata": {},
   "outputs": [],
   "source": [
    "# Standard imports for data science (always use these conventions)\n",
    "import numpy as np\n",
    "import pandas as pd\n",
    "import matplotlib.pyplot as plt\n",
    "import seaborn as sns\n",
    "\n",
    "# Print versions\n",
    "print(f\"NumPy version: {np.__version__}\")\n",
    "print(f\"Pandas version: {pd.__version__}\")\n",
    "print(f\"Matplotlib version: {plt.matplotlib.__version__}\")\n",
    "print(f\"Seaborn version: {sns.__version__}\")\n",
    "\n",
    "# Set up plotting style\n",
    "plt.style.use('default')\n",
    "sns.set_palette(\"husl\")\n",
    "%matplotlib inline"
   ]
  },
  {
   "cell_type": "markdown",
   "id": "a12cfcef",
   "metadata": {},
   "source": [
    "### 2.3 Quick Library Demonstration"
   ]
  },
  {
   "cell_type": "code",
   "execution_count": null,
   "id": "06e05346",
   "metadata": {},
   "outputs": [],
   "source": [
    "# NumPy demonstration\n",
    "print(\"=== NumPy Demo ===\")\n",
    "# Create arrays\n",
    "arr1 = np.array([1, 2, 3, 4, 5])\n",
    "arr2 = np.array([6, 7, 8, 9, 10])\n",
    "\n",
    "print(f\"Array 1: {arr1}\")\n",
    "print(f\"Array 2: {arr2}\")\n",
    "print(f\"Sum: {arr1 + arr2}\")\n",
    "print(f\"Mean of Array 1: {np.mean(arr1)}\")\n",
    "print(f\"Standard deviation: {np.std(arr1)}\")\n",
    "\n",
    "# 2D array\n",
    "matrix = np.array([[1, 2, 3], [4, 5, 6], [7, 8, 9]])\n",
    "print(f\"\\n2D Array:\\n{matrix}\")\n",
    "print(f\"Shape: {matrix.shape}\")\n",
    "print(f\"Sum of each column: {np.sum(matrix, axis=0)}\")"
   ]
  },
  {
   "cell_type": "code",
   "execution_count": null,
   "id": "5d56d929",
   "metadata": {},
   "outputs": [],
   "source": [
    "# Pandas demonstration\n",
    "print(\"=== Pandas Demo ===\")\n",
    "# Create a simple dataset\n",
    "data = {\n",
    "    'Name': ['Alice', 'Bob', 'Charlie', 'Diana', 'Eve'],\n",
    "    'Age': [25, 30, 35, 28, 32],\n",
    "    'City': ['London', 'Paris', 'Berlin', 'Madrid', 'Rome'],\n",
    "    'Salary': [50000, 60000, 70000, 55000, 65000]\n",
    "}\n",
    "\n",
    "df = pd.DataFrame(data)\n",
    "print(\"Sample DataFrame:\")\n",
    "print(df)\n",
    "\n",
    "print(f\"\\nDataFrame shape: {df.shape}\")\n",
    "print(f\"Column names: {list(df.columns)}\")\n",
    "print(f\"\\nBasic statistics:\")\n",
    "print(df.describe())"
   ]
  },
  {
   "cell_type": "code",
   "execution_count": null,
   "id": "3fb57c0a",
   "metadata": {},
   "outputs": [],
   "source": [
    "# Simple visualisation with matplotlib\n",
    "print(\"=== Matplotlib Demo ===\")\n",
    "plt.figure(figsize=(10, 4))\n",
    "\n",
    "# Subplot 1: Line plot\n",
    "plt.subplot(1, 2, 1)\n",
    "x = range(len(df))\n",
    "plt.plot(x, df['Age'], 'bo-', label='Age')\n",
    "plt.xlabel('Person Index')\n",
    "plt.ylabel('Age')\n",
    "plt.title('Age Distribution')\n",
    "plt.legend()\n",
    "\n",
    "# Subplot 2: Bar plot\n",
    "plt.subplot(1, 2, 2)\n",
    "plt.bar(df['Name'], df['Salary'], color='skyblue')\n",
    "plt.xlabel('Name')\n",
    "plt.ylabel('Salary')\n",
    "plt.title('Salary by Person')\n",
    "plt.xticks(rotation=45)\n",
    "\n",
    "plt.tight_layout()\n",
    "plt.show()"
   ]
  },
  {
   "cell_type": "markdown",
   "id": "756b703c",
   "metadata": {},
   "source": [
    "## Part 3: Git and GitHub Setup (45 minutes)\n",
    "\n",
    "Version control is essential for any data science project."
   ]
  },
  {
   "cell_type": "markdown",
   "id": "4a623af5",
   "metadata": {},
   "source": [
    "### 3.1 Git Basics\n",
    "\n",
    "Git is a distributed version control system. Here are the essential commands:\n",
    "\n",
    "**Basic Git Workflow:**\n",
    "1. `git init` - Initialize a repository\n",
    "2. `git add .` - Stage all changes\n",
    "3. `git commit -m \"message\"` - Commit changes\n",
    "4. `git push` - Push to remote repository\n",
    "\n",
    "**Common Git Commands:**\n",
    "- `git status` - Check repository status\n",
    "- `git log` - View commit history\n",
    "- `git branch` - List branches\n",
    "- `git checkout -b new-branch` - Create and switch to new branch\n",
    "- `git merge branch-name` - Merge branches"
   ]
  },
  {
   "cell_type": "code",
   "execution_count": null,
   "id": "c05aa0ff",
   "metadata": {},
   "outputs": [],
   "source": [
    "# Check if git is installed\n",
    "import subprocess\n",
    "import os\n",
    "\n",
    "try:\n",
    "    result = subprocess.run(['git', '--version'], \n",
    "                          capture_output=True, text=True, check=True)\n",
    "    print(f\"✓ Git is installed: {result.stdout.strip()}\")\n",
    "except (subprocess.CalledProcessError, FileNotFoundError):\n",
    "    print(\"✗ Git is not installed or not in PATH\")\n",
    "    print(\"Please install Git from: https://git-scm.com/\")"
   ]
  },
  {
   "cell_type": "markdown",
   "id": "82586795",
   "metadata": {},
   "source": [
    "### 3.2 GitHub Repository Structure for Data Science\n",
    "\n",
    "A well-structured repository is crucial for portfolio development:\n",
    "\n",
    "```\n",
    "project-name/\n",
    "│\n",
    "├── README.md                 # Project description and setup\n",
    "├── requirements.txt          # Python dependencies\n",
    "├── .gitignore               # Files to ignore\n",
    "├── data/                    # Data files\n",
    "│   ├── raw/                 # Raw, original data\n",
    "│   ├── processed/           # Cleaned data\n",
    "│   └── external/            # External data sources\n",
    "├── notebooks/               # Jupyter notebooks\n",
    "│   ├── 01_data_exploration.ipynb\n",
    "│   ├── 02_data_cleaning.ipynb\n",
    "│   └── 03_modeling.ipynb\n",
    "├── src/                     # Source code\n",
    "│   ├── __init__.py\n",
    "│   ├── data_processing.py\n",
    "│   └── models.py\n",
    "├── models/                  # Trained models\n",
    "├── reports/                 # Generated reports\n",
    "│   └── figures/             # Generated graphics\n",
    "└── docs/                    # Documentation\n",
    "```"
   ]
  },
  {
   "cell_type": "markdown",
   "id": "566a4e52",
   "metadata": {},
   "source": [
    "### 3.3 Creating Your First Data Science Repository\n",
    "\n",
    "**Step-by-step guide:**\n",
    "\n",
    "1. **Create a new repository on GitHub:**\n",
    "   - Go to GitHub.com\n",
    "   - Click \"New repository\"\n",
    "   - Name it \"ds-ml-training-portfolio\"\n",
    "   - Add description: \"Portfolio of data science and machine learning projects\"\n",
    "   - Make it public\n",
    "   - Initialize with README\n",
    "\n",
    "2. **Clone to your local machine:**\n",
    "   ```bash\n",
    "   git clone https://github.com/YOUR_USERNAME/ds-ml-training-portfolio.git\n",
    "   cd ds-ml-training-portfolio\n",
    "   ```\n",
    "\n",
    "3. **Set up the directory structure:**\n",
    "   ```bash\n",
    "   mkdir -p data/{raw,processed,external}\n",
    "   mkdir -p notebooks\n",
    "   mkdir -p src\n",
    "   mkdir -p models\n",
    "   mkdir -p reports/figures\n",
    "   mkdir -p docs\n",
    "   ```\n",
    "\n",
    "4. **Create essential files:**\n",
    "   - `.gitignore` (for Python projects)\n",
    "   - `requirements.txt` (list of dependencies)\n",
    "   - Update `README.md`"
   ]
  },
  {
   "cell_type": "markdown",
   "id": "a6ee92b7",
   "metadata": {},
   "source": [
    "## Part 4: Practical Exercises (30 minutes)"
   ]
  },
  {
   "cell_type": "markdown",
   "id": "fc606f20",
   "metadata": {},
   "source": [
    "### Exercise 1: Data Structure Practice"
   ]
  },
  {
   "cell_type": "code",
   "execution_count": null,
   "id": "f3602a75",
   "metadata": {},
   "outputs": [],
   "source": [
    "# Exercise 1: Create a student database\n",
    "# TODO: Create a list of dictionaries representing students\n",
    "# Each student should have: name, age, grades (list), major\n",
    "\n",
    "students = [\n",
    "    # Add your student data here\n",
    "]\n",
    "\n",
    "# TODO: Write functions to:\n",
    "# 1. Calculate average grade for each student\n",
    "# 2. Find the student with highest average\n",
    "# 3. Group students by major\n",
    "\n",
    "def calculate_student_average(student):\n",
    "    \"\"\"Calculate average grade for a student.\"\"\"\n",
    "    # Your code here\n",
    "    pass\n",
    "\n",
    "def find_top_student(students):\n",
    "    \"\"\"Find student with highest average grade.\"\"\"\n",
    "    # Your code here\n",
    "    pass\n",
    "\n",
    "def group_by_major(students):\n",
    "    \"\"\"Group students by their major.\"\"\"\n",
    "    # Your code here\n",
    "    pass\n",
    "\n",
    "# Test your functions here"
   ]
  },
  {
   "cell_type": "markdown",
   "id": "412dda5d",
   "metadata": {},
   "source": [
    "### Exercise 2: Basic Data Analysis"
   ]
  },
  {
   "cell_type": "code",
   "execution_count": null,
   "id": "f40c9439",
   "metadata": {},
   "outputs": [],
   "source": [
    "# Exercise 2: Sales data analysis\n",
    "import numpy as np\n",
    "import pandas as pd\n",
    "import matplotlib.pyplot as plt\n",
    "\n",
    "# Create sample sales data\n",
    "np.random.seed(42)\n",
    "sales_data = {\n",
    "    'month': ['Jan', 'Feb', 'Mar', 'Apr', 'May', 'Jun', \n",
    "              'Jul', 'Aug', 'Sep', 'Oct', 'Nov', 'Dec'],\n",
    "    'sales': np.random.randint(1000, 5000, 12),\n",
    "    'expenses': np.random.randint(500, 2000, 12)\n",
    "}\n",
    "\n",
    "df_sales = pd.DataFrame(sales_data)\n",
    "print(\"Sales Data:\")\n",
    "print(df_sales)\n",
    "\n",
    "# TODO: Complete the following tasks:\n",
    "# 1. Calculate profit for each month (sales - expenses)\n",
    "# 2. Find the month with highest profit\n",
    "# 3. Calculate total sales and expenses for the year\n",
    "# 4. Create a simple plot showing sales vs expenses\n",
    "\n",
    "# Your code here"
   ]
  },
  {
   "cell_type": "markdown",
   "id": "e05954bd",
   "metadata": {},
   "source": [
    "## Summary and Next Steps\n",
    "\n",
    "### What We Covered Today:\n",
    "1. ✅ Python fundamentals: data types, control structures, functions\n",
    "2. ✅ Jupyter notebook setup and best practices\n",
    "3. ✅ Introduction to data science libraries (NumPy, Pandas, Matplotlib)\n",
    "4. ✅ Git and GitHub setup for portfolio development\n",
    "5. ✅ Practical exercises with real data\n",
    "\n",
    "### Homework Before Next Session:\n",
    "1. **Complete the exercises** above if not finished in class\n",
    "2. **Set up your GitHub repository** following the structure we discussed\n",
    "3. **Read about Pandas basics** - we'll dive deep into data manipulation next session\n",
    "4. **Optional:** Explore the Iris dataset (we'll use it in Session 3)\n",
    "\n",
    "### Resources for Further Learning:\n",
    "- [Python.org Tutorial](https://docs.python.org/3/tutorial/)\n",
    "- [Jupyter Documentation](https://jupyter-notebook.readthedocs.io/)\n",
    "- [Git Handbook](https://guides.github.com/introduction/git-handbook/)\n",
    "- [Pandas Documentation](https://pandas.pydata.org/docs/)\n",
    "\n",
    "### Next Session Preview:\n",
    "**Session 2: Data Manipulation with Pandas & NumPy**\n",
    "- Advanced Pandas operations\n",
    "- Data loading from various sources\n",
    "- Introduction to the Iris dataset\n",
    "- Data cleaning fundamentals"
   ]
  }
 ],
 "metadata": {
  "kernelspec": {
   "display_name": "pipenv",
   "language": "python",
   "name": "python3"
  },
  "language_info": {
   "codemirror_mode": {
    "name": "ipython",
    "version": 3
   },
   "file_extension": ".py",
   "mimetype": "text/x-python",
   "name": "python",
   "nbconvert_exporter": "python",
   "pygments_lexer": "ipython3",
   "version": "3.10.18"
  }
 },
 "nbformat": 4,
 "nbformat_minor": 5
}
